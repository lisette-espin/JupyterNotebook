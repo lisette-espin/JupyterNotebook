{
 "cells": [
  {
   "cell_type": "markdown",
   "metadata": {},
   "source": [
    "<div style='text-align: center;'>\n",
    "    <h1>#LaManada</h1>\n",
    "    <h2>Mini-Project CSS Summer School</h2>\n",
    "</div>\n",
    "\n",
    "<p>\n",
    "    <b>Members</b>\n",
    "    <ul>\n",
    "        <li>Blanca Ramirez, USC (USA)</li>\n",
    "        <li>Tayrine Dias, UOC (Spain)</li>\n",
    "        <li>Lisette Espin-Noboa, GESIS (Germany)</li>\n",
    "    </ul>\n",
    "</p>"
   ]
  },
  {
   "cell_type": "markdown",
   "metadata": {},
   "source": [
    "<h2>Descriptive Analysis</h2>"
   ]
  },
  {
   "cell_type": "code",
   "execution_count": 2,
   "metadata": {},
   "outputs": [
    {
     "name": "stderr",
     "output_type": "stream",
     "text": [
      "/ssd/lespin/virtualenv/python3.5/lib/python3.5/importlib/_bootstrap.py:222: RuntimeWarning: numpy.dtype size changed, may indicate binary incompatibility. Expected 96, got 88\n",
      "  return f(*args, **kwds)\n",
      "/ssd/lespin/virtualenv/python3.5/lib/python3.5/importlib/_bootstrap.py:222: RuntimeWarning: numpy.dtype size changed, may indicate binary incompatibility. Expected 96, got 88\n",
      "  return f(*args, **kwds)\n"
     ]
    }
   ],
   "source": [
    "####################################################\n",
    "# GENERAL DEPENDENCES\n",
    "####################################################\n",
    "%matplotlib inline\n",
    "import warnings\n",
    "# warnings.filterwarnings('ignore')\n",
    "import pandas as pd\n",
    "import networkx as nx\n",
    "import numpy as np\n",
    "import seaborn as sns\n",
    "import matplotlib.pyplot as plt\n",
    "from wordcloud import WordCloud\n",
    "import multidict as multidict\n",
    "import re\n",
    "from PIL import Image"
   ]
  },
  {
   "cell_type": "code",
   "execution_count": 10,
   "metadata": {},
   "outputs": [],
   "source": [
    "####################################################\n",
    "# NLP DEPENDENCES\n",
    "####################################################\n",
    "import nltk  \n",
    "from nltk.corpus import stopwords  \n",
    "from nltk import word_tokenize  \n",
    "from nltk.data import load  \n",
    "from nltk.stem import SnowballStemmer  \n",
    "from string import punctuation  \n",
    "from sklearn.feature_extraction.text import CountVectorizer\n",
    "\n",
    "#stopword list to use\n",
    "spanish_stopwords = stopwords.words('spanish')\n",
    "my_stopwords = ['me', 'las', 'es', 'un', 'mi', 'con', 'ser', 'los', 'si', 'ha', 'hasta', 'o', 'de', 'cuando', 'http', 'su', 'twitter', 'er', 'como', 'to', 'le', 'se', 'en', 'lo', 'a', 'tgo', 'toy', 'tu', 'el', 'por', 'una', 'al', 'para', 'la', 'pero', 'que', 'da', 'https', 'y','q','del','xq','les','mis','te','sí','ya','i','porque','por que','por qué','era','cada','nos','pero','ni']\n",
    "with open('stopwords_ca.txt','r') as f:\n",
    "    catalan_stopwords=[line.replace('\\n','') for line in f.readlines()]\n",
    "all_stopwords = set(my_stopwords)\n",
    "all_stopwords |= set(spanish_stopwords)\n",
    "all_stopwords |= set(catalan_stopwords)\n",
    "\n",
    "#spanish stemmer\n",
    "stemmer = SnowballStemmer('spanish')\n",
    "\n",
    "#punctuation to remove\n",
    "non_words = list(punctuation)\n",
    "#we add spanish punctuation\n",
    "non_words.extend(['¿', '¡','\"',\"'\",\"“\",\"”\",\"‘\",\"’\",\"$\",\"€\",\"<\",\">\",\"^\",\"`\",\"~\",\"«\",\"»\"])  \n",
    "non_words.extend(map(str,range(10)))\n",
    "\n",
    "stemmer = SnowballStemmer('spanish')  \n",
    "def stem_tokens(tokens, stemmer):  \n",
    "    stemmed = []\n",
    "    for item in tokens:\n",
    "        if item not in all_stopwords:\n",
    "            stemmed.append(stemmer.stem(item))\n",
    "    return stemmed\n",
    "\n",
    "def tokenize(text):  \n",
    "    # remove punctuation\n",
    "    text = ''.join([c for c in text if c not in non_words])\n",
    "    # tokenize\n",
    "    tokens =  word_tokenize(text)\n",
    "\n",
    "    # stem\n",
    "    try:\n",
    "        stems = stem_tokens(tokens, stemmer)\n",
    "    except Exception as e:\n",
    "        print(e)\n",
    "        print(text)\n",
    "        stems = ['']\n",
    "    return stems"
   ]
  },
  {
   "cell_type": "code",
   "execution_count": 3,
   "metadata": {},
   "outputs": [],
   "source": [
    "####################################################\n",
    "# CONSTANTS\n",
    "####################################################\n",
    "K = 10\n",
    "SEP = ','"
   ]
  },
  {
   "cell_type": "code",
   "execution_count": 4,
   "metadata": {},
   "outputs": [],
   "source": [
    "####################################################\n",
    "# FUNCTIONS (HANDLERS)\n",
    "####################################################\n",
    "def getFrequencyDictForText(sentence):\n",
    "    fullTermsDict = multidict.MultiDict()\n",
    "    tmpDict = {}\n",
    "    # making dict for counting frequencies\n",
    "    for text in sentence.split(\" \"):\n",
    "        val = tmpDict.get(text, 0)\n",
    "        tmpDict[text.lower()] = val + 1\n",
    "    for key in tmpDict:\n",
    "        fullTermsDict.add(key, tmpDict[key])\n",
    "    return {k:v for k,v in fullTermsDict.items() if v>1}\n",
    "\n",
    "def makeImage(text, width, height, shape):\n",
    "    wc = WordCloud(background_color=\"white\", max_words=2000, width=width, height=height, stopwords=all_stopwords)\n",
    "    wc.generate_from_frequencies(text)\n",
    "    plt.figure(figsize=shape)\n",
    "    plt.imshow(wc, interpolation=\"bilinear\")\n",
    "    plt.xticks([])\n",
    "    plt.yticks([])\n",
    "\n",
    "def _get_text(values):\n",
    "    return ' '.join([_get_tokens(t) for t in values])\n",
    "    \n",
    "def _get_tokens(text):\n",
    "    text = re.sub(r\"http\\S+\", \"\", text)\n",
    "    text = re.sub(r'^https?:\\/\\/.*[\\r\\n]*', '', text, flags=re.MULTILINE)\n",
    "    text = re.sub(r'^http?:\\/\\/.*[\\r\\n]*', '', text, flags=re.MULTILINE)\n",
    "    text = ''.join([c for c in text if c not in non_words])\n",
    "    tokens =  word_tokenize(text)\n",
    "    text = []\n",
    "    for item in tokens:\n",
    "        if item not in all_stopwords:\n",
    "            text.append(item)\n",
    "    text = ' '.join(text)\n",
    "    return text\n",
    "    \n",
    "def remove_stop_words_es(text):\n",
    "    text = text.lower()\n",
    "    for word in all_stopwords:\n",
    "        text = text.replace(' {} '.format(word),'')\n",
    "        text = text.replace('{} '.format(word),'') if text.startswith('{} '.format(word)) else text\n",
    "        text = text.replace(' {}'.format(word),'') if text.endswith(' {}'.format(word)) else text\n",
    "        \n",
    "    text = text.replace('?','').replace('.','').replace(',','').replace(':','').replace(';','').replace('\"','').replace(\"'\",\"\")\n",
    "    return text\n"
   ]
  },
  {
   "cell_type": "code",
   "execution_count": 5,
   "metadata": {},
   "outputs": [
    {
     "data": {
      "text/plain": [
       "(799705, 30)"
      ]
     },
     "execution_count": 5,
     "metadata": {},
     "output_type": "execute_result"
    }
   ],
   "source": [
    "####################################################\n",
    "# LOADING THE DATA\n",
    "####################################################\n",
    "users = pd.read_csv('LaManada_new/tbluserinfo.csv',sep=SEP)\n",
    "users.shape"
   ]
  },
  {
   "cell_type": "code",
   "execution_count": 6,
   "metadata": {},
   "outputs": [
    {
     "name": "stderr",
     "output_type": "stream",
     "text": [
      "/ssd/lespin/virtualenv/python3.5/lib/python3.5/site-packages/IPython/core/interactiveshell.py:2785: DtypeWarning: Columns (7) have mixed types. Specify dtype option on import or set low_memory=False.\n",
      "  interactivity=interactivity, compiler=compiler, result=result)\n"
     ]
    },
    {
     "data": {
      "text/plain": [
       "(3109377, 13)"
      ]
     },
     "execution_count": 6,
     "metadata": {},
     "output_type": "execute_result"
    }
   ],
   "source": [
    "tweets = pd.read_csv('LaManada_new/tblposts.csv',sep=SEP)\n",
    "tweets.shape"
   ]
  },
  {
   "cell_type": "code",
   "execution_count": 7,
   "metadata": {},
   "outputs": [
    {
     "data": {
      "text/plain": [
       "(2910588, 3)"
      ]
     },
     "execution_count": 7,
     "metadata": {},
     "output_type": "execute_result"
    }
   ],
   "source": [
    "retweets = pd.read_csv('LaManada_new/tblretweets.csv',sep=SEP)\n",
    "retweets.shape"
   ]
  },
  {
   "cell_type": "code",
   "execution_count": 8,
   "metadata": {},
   "outputs": [
    {
     "data": {
      "text/plain": [
       "(27697, 4)"
      ]
     },
     "execution_count": 8,
     "metadata": {},
     "output_type": "execute_result"
    }
   ],
   "source": [
    "replies = pd.read_csv('LaManada_new/tblreplies.csv',sep=SEP,quotechar='\"')\n",
    "replies.shape"
   ]
  },
  {
   "cell_type": "markdown",
   "metadata": {},
   "source": [
    "<h3>Columns</h3>"
   ]
  },
  {
   "cell_type": "code",
   "execution_count": 11,
   "metadata": {},
   "outputs": [
    {
     "data": {
      "text/plain": [
       "Index(['snspostid', 'snsuserid', 'text', 'created_at', 'tags', 'urls',\n",
       "       'mentions', 'coordinates', 'numFavourites', 'isaRetweet', 'numRetweets',\n",
       "       'lang', 'media'],\n",
       "      dtype='object')"
      ]
     },
     "execution_count": 11,
     "metadata": {},
     "output_type": "execute_result"
    }
   ],
   "source": [
    "users.columns"
   ]
  },
  {
   "cell_type": "code",
   "execution_count": 12,
   "metadata": {},
   "outputs": [
    {
     "data": {
      "text/plain": [
       "Index(['snspostid', 'snsuserid', 'text', 'created_at', 'tags', 'urls',\n",
       "       'mentions', 'coordinates', 'numFavourites', 'isaRetweet', 'numRetweets',\n",
       "       'lang', 'media'],\n",
       "      dtype='object')"
      ]
     },
     "execution_count": 12,
     "metadata": {},
     "output_type": "execute_result"
    }
   ],
   "source": [
    "tweets.columns"
   ]
  },
  {
   "cell_type": "code",
   "execution_count": 13,
   "metadata": {},
   "outputs": [
    {
     "data": {
      "text/plain": [
       "Index(['postId', 'parentPost', 'parentPostAuthor'], dtype='object')"
      ]
     },
     "execution_count": 13,
     "metadata": {},
     "output_type": "execute_result"
    }
   ],
   "source": [
    "retweets.columns"
   ]
  },
  {
   "cell_type": "code",
   "execution_count": 14,
   "metadata": {},
   "outputs": [
    {
     "data": {
      "text/plain": [
       "Index(['postId', 'parentPost', 'parentPostAuthor', 'parentPostAuthorName'], dtype='object')"
      ]
     },
     "execution_count": 14,
     "metadata": {},
     "output_type": "execute_result"
    }
   ],
   "source": [
    "replies.columns"
   ]
  },
  {
   "cell_type": "markdown",
   "metadata": {},
   "source": [
    "<h3>Who are tweeting about #LaManada?</h3>"
   ]
  },
  {
   "cell_type": "code",
   "execution_count": null,
   "metadata": {},
   "outputs": [],
   "source": [
    "users[\"created_at\"] = users[\"created_at\"].astype(\"datetime64\")"
   ]
  },
  {
   "cell_type": "code",
   "execution_count": 17,
   "metadata": {},
   "outputs": [
    {
     "data": {
      "text/html": [
       "<div>\n",
       "<style scoped>\n",
       "    .dataframe tbody tr th:only-of-type {\n",
       "        vertical-align: middle;\n",
       "    }\n",
       "\n",
       "    .dataframe tbody tr th {\n",
       "        vertical-align: top;\n",
       "    }\n",
       "\n",
       "    .dataframe thead th {\n",
       "        text-align: right;\n",
       "    }\n",
       "</style>\n",
       "<table border=\"1\" class=\"dataframe\">\n",
       "  <thead>\n",
       "    <tr style=\"text-align: right;\">\n",
       "      <th></th>\n",
       "      <th>snsuserid</th>\n",
       "      <th>contributors_enabled</th>\n",
       "      <th>created_at</th>\n",
       "      <th>default_profile</th>\n",
       "      <th>default_profile_image</th>\n",
       "      <th>description</th>\n",
       "      <th>favourites_count</th>\n",
       "      <th>followers_count</th>\n",
       "      <th>friends_count</th>\n",
       "      <th>geo_enabled</th>\n",
       "      <th>...</th>\n",
       "      <th>profile_link_color</th>\n",
       "      <th>profile_text_color</th>\n",
       "      <th>screen_name</th>\n",
       "      <th>show_all_inline_media</th>\n",
       "      <th>statuses_count</th>\n",
       "      <th>time_zone</th>\n",
       "      <th>url</th>\n",
       "      <th>utc_offset</th>\n",
       "      <th>verified</th>\n",
       "      <th>protected</th>\n",
       "    </tr>\n",
       "  </thead>\n",
       "  <tbody>\n",
       "    <tr>\n",
       "      <th>386197</th>\n",
       "      <td>1183924428</td>\n",
       "      <td>0</td>\n",
       "      <td>1970-01-01</td>\n",
       "      <td>0</td>\n",
       "      <td>0</td>\n",
       "      <td>NaN</td>\n",
       "      <td>4508</td>\n",
       "      <td>1361</td>\n",
       "      <td>986</td>\n",
       "      <td>0</td>\n",
       "      <td>...</td>\n",
       "      <td>NaN</td>\n",
       "      <td>NaN</td>\n",
       "      <td>melxbaez</td>\n",
       "      <td>0</td>\n",
       "      <td>48997</td>\n",
       "      <td>NaN</td>\n",
       "      <td>NaN</td>\n",
       "      <td>0</td>\n",
       "      <td>0</td>\n",
       "      <td>0</td>\n",
       "    </tr>\n",
       "    <tr>\n",
       "      <th>386234</th>\n",
       "      <td>1184113494</td>\n",
       "      <td>0</td>\n",
       "      <td>1970-01-01</td>\n",
       "      <td>0</td>\n",
       "      <td>0</td>\n",
       "      <td>NaN</td>\n",
       "      <td>19284</td>\n",
       "      <td>509</td>\n",
       "      <td>725</td>\n",
       "      <td>1</td>\n",
       "      <td>...</td>\n",
       "      <td>NaN</td>\n",
       "      <td>NaN</td>\n",
       "      <td>557Catalina</td>\n",
       "      <td>0</td>\n",
       "      <td>6032</td>\n",
       "      <td>NaN</td>\n",
       "      <td>https://t.co/imrztNZHBh</td>\n",
       "      <td>0</td>\n",
       "      <td>0</td>\n",
       "      <td>0</td>\n",
       "    </tr>\n",
       "  </tbody>\n",
       "</table>\n",
       "<p>2 rows × 30 columns</p>\n",
       "</div>"
      ],
      "text/plain": [
       "         snsuserid  contributors_enabled created_at  default_profile  \\\n",
       "386197  1183924428                     0 1970-01-01                0   \n",
       "386234  1184113494                     0 1970-01-01                0   \n",
       "\n",
       "        default_profile_image  description  favourites_count  followers_count  \\\n",
       "386197                      0          NaN              4508             1361   \n",
       "386234                      0          NaN             19284              509   \n",
       "\n",
       "        friends_count  geo_enabled    ...      profile_link_color  \\\n",
       "386197            986            0    ...                     NaN   \n",
       "386234            725            1    ...                     NaN   \n",
       "\n",
       "       profile_text_color  screen_name  show_all_inline_media  statuses_count  \\\n",
       "386197                NaN     melxbaez                      0           48997   \n",
       "386234                NaN  557Catalina                      0            6032   \n",
       "\n",
       "        time_zone                      url  utc_offset  verified  protected  \n",
       "386197        NaN                      NaN           0         0          0  \n",
       "386234        NaN  https://t.co/imrztNZHBh           0         0          0  \n",
       "\n",
       "[2 rows x 30 columns]"
      ]
     },
     "execution_count": 17,
     "metadata": {},
     "output_type": "execute_result"
    }
   ],
   "source": [
    "users.query(\"created_at < '1984-01-01 00:00:00'\")"
   ]
  },
  {
   "cell_type": "code",
   "execution_count": 18,
   "metadata": {},
   "outputs": [],
   "source": [
    "users = users.query(\"created_at > '1984-01-01 00:00:00'\") #removing those 2 outliers"
   ]
  },
  {
   "cell_type": "markdown",
   "metadata": {},
   "source": [
    "<h3>Accounts creation date</h3>\n",
    "There is a peak of ~4000 users that were created in 2018 (probably trolls?)"
   ]
  },
  {
   "cell_type": "code",
   "execution_count": 19,
   "metadata": {},
   "outputs": [
    {
     "data": {
      "text/plain": [
       "Text(0.5,1,\"Users' account creation per year\")"
      ]
     },
     "execution_count": 19,
     "metadata": {},
     "output_type": "execute_result"
    },
    {
     "data": {
      "image/png": "[encoded data removed]",
      "text/plain": [
       "<Figure size 432x288 with 1 Axes>"
      ]
     },
     "metadata": {},
     "output_type": "display_data"
    }
   ],
   "source": [
    "ax = users.created_at.hist(bins=12)\n",
    "ax.set_xlabel('Date')\n",
    "ax.set_ylabel('# Users')\n",
    "ax.set_title(\"Users' account creation per year\")"
   ]
  },
  {
   "cell_type": "code",
   "execution_count": 20,
   "metadata": {},
   "outputs": [
    {
     "data": {
      "text/plain": [
       "Text(0.5,1,\"Users' account creation per month\")"
      ]
     },
     "execution_count": 20,
     "metadata": {},
     "output_type": "execute_result"
    },
    {
     "data": {
      "image/png": "[encoded data removed]",
      "text/plain": [
       "<Figure size 432x288 with 1 Axes>"
      ]
     },
     "metadata": {},
     "output_type": "display_data"
    }
   ],
   "source": [
    "ax = users.created_at.hist(bins=144)\n",
    "ax.set_xlabel('Date')\n",
    "ax.set_ylabel('# Users')\n",
    "ax.set_title(\"Users' account creation per month\")"
   ]
  },
  {
   "cell_type": "code",
   "execution_count": 21,
   "metadata": {},
   "outputs": [
    {
     "data": {
      "text/plain": [
       "Text(0.5,1,\"Users' account creation per day\")"
      ]
     },
     "execution_count": 21,
     "metadata": {},
     "output_type": "execute_result"
    },
    {
     "data": {
      "image/png": "[encoded data removed]",
      "text/plain": [
       "<Figure size 432x288 with 1 Axes>"
      ]
     },
     "metadata": {},
     "output_type": "display_data"
    }
   ],
   "source": [
    "ax = users.created_at.hist(bins=4380)\n",
    "ax.set_xlabel('Date')\n",
    "ax.set_ylabel('# Users')\n",
    "ax.set_title(\"Users' account creation per day\")"
   ]
  },
  {
   "cell_type": "code",
   "execution_count": 22,
   "metadata": {},
   "outputs": [
    {
     "data": {
      "image/png": "[encoded data removed]",
      "text/plain": [
       "<Figure size 432x288 with 1 Axes>"
      ]
     },
     "metadata": {},
     "output_type": "display_data"
    }
   ],
   "source": [
    "# 27-April - 4 May\n",
    "users.loc[:,'creation_date'] = users.created_at.dt.date\n",
    "tmp = users.groupby(['creation_date']).size().reset_index()\n",
    "tmp.rename(columns={0:'users'},inplace=True)\n",
    "ax=sns.scatterplot(data=tmp, x='creation_date', y='users')"
   ]
  },
  {
   "cell_type": "markdown",
   "metadata": {},
   "source": [
    "<h3>User's # Favorites (in general)</h3>"
   ]
  },
  {
   "cell_type": "code",
   "execution_count": 23,
   "metadata": {},
   "outputs": [
    {
     "data": {
      "text/plain": [
       "Text(0.5,1,\"Users' Favorite counts\")"
      ]
     },
     "execution_count": 23,
     "metadata": {},
     "output_type": "execute_result"
    },
    {
     "data": {
      "image/png": "[encoded data removed]",
      "text/plain": [
       "<Figure size 432x288 with 1 Axes>"
      ]
     },
     "metadata": {},
     "output_type": "display_data"
    }
   ],
   "source": [
    "ax = users.favourites_count.hist(bins=500)\n",
    "ax.set_yscale('log')\n",
    "ax.set_xscale('log')\n",
    "ax.set_xlabel('Favorite Counts')\n",
    "ax.set_ylabel('# Users')\n",
    "ax.set_title(\"Users' Favorite counts\")"
   ]
  },
  {
   "cell_type": "markdown",
   "metadata": {},
   "source": [
    "<h3>User's listed count</h3>\n",
    "Around 1M users have been listed in $\\leq$ 100 lists. <br />\n",
    "Only a few users (~10) have been listed in at least 2K lists."
   ]
  },
  {
   "cell_type": "code",
   "execution_count": 24,
   "metadata": {},
   "outputs": [
    {
     "data": {
      "text/plain": [
       "Text(0.5,1,\"Users' Lists counts\")"
      ]
     },
     "execution_count": 24,
     "metadata": {},
     "output_type": "execute_result"
    },
    {
     "data": {
      "image/png": "[encoded data removed]",
      "text/plain": [
       "<Figure size 432x288 with 1 Axes>"
      ]
     },
     "metadata": {},
     "output_type": "display_data"
    }
   ],
   "source": [
    "ax = users.listed_count.hist(bins=500)\n",
    "ax.set_yscale('log')\n",
    "ax.set_xscale('log')\n",
    "ax.set_xlabel('Lists Counts')\n",
    "ax.set_ylabel('# Users')\n",
    "ax.set_title(\"Users' Lists counts\")"
   ]
  },
  {
   "cell_type": "markdown",
   "metadata": {},
   "source": [
    "<h3>#Friends vs #Followers</h3>\n",
    "Verified accounts (right columns) tend to have more followers and a few friends compared to non-verified accounts <br />\n",
    "This makes sense, since verified users are usually famous people such as celebrities, politicians, etc. Therefore, they have more followers than 'normal' users. <br />\n",
    "There is no significant different between users with geo_enabled 0 or 1."
   ]
  },
  {
   "cell_type": "code",
   "execution_count": null,
   "metadata": {},
   "outputs": [],
   "source": []
  }
 ],
 "metadata": {
  "kernelspec": {
   "display_name": "Python 3",
   "language": "python",
   "name": "python3"
  },
  "language_info": {
   "codemirror_mode": {
    "name": "ipython",
    "version": 3
   },
   "file_extension": ".py",
   "mimetype": "text/x-python",
   "name": "python",
   "nbconvert_exporter": "python",
   "pygments_lexer": "ipython3",
   "version": "3.5.2"
  }
 },
 "nbformat": 4,
 "nbformat_minor": 2
}
