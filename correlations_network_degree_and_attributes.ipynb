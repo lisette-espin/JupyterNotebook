{
 "cells": [
  {
   "cell_type": "code",
   "execution_count": 1,
   "metadata": {},
   "outputs": [],
   "source": [
    "%matplotlib inline\n",
    "import operator\n",
    "\n",
    "import numpy as np\n",
    "import pandas as pd\n",
    "import networkx as nx\n",
    "\n",
    "from scipy.stats import pearsonr\n",
    "from itertools import product\n",
    "from itertools import combinations\n",
    "from itertools import permutations\n",
    "\n",
    "import matplotlib.pyplot as plt"
   ]
  },
  {
   "cell_type": "markdown",
   "metadata": {},
   "source": [
    "**Toy-Example**:<br />\n",
    "Random network G=(N,p)<br />\n",
    "Binary node-attribute: color"
   ]
  },
  {
   "cell_type": "code",
   "execution_count": 2,
   "metadata": {},
   "outputs": [
    {
     "name": "stdout",
     "output_type": "stream",
     "text": [
      "Name: \n",
      "Type: Graph\n",
      "Number of nodes: 20\n",
      "Number of edges: 63\n",
      "Average degree:   6.3000\n"
     ]
    }
   ],
   "source": [
    "N=20\n",
    "p=0.4\n",
    "attribute = 'color'\n",
    "G = nx.erdos_renyi_graph(n=N,p=p)\n",
    "nx.set_node_attributes(G, name=attribute, values={i:np.random.choice([0,1]) for i in G.nodes()})\n",
    "print(nx.info(G))"
   ]
  },
  {
   "cell_type": "code",
   "execution_count": 3,
   "metadata": {},
   "outputs": [
    {
     "data": {
      "image/png": "[encoded data removed]",
      "text/plain": [
       "<matplotlib.figure.Figure at 0x111b39ef0>"
      ]
     },
     "metadata": {},
     "output_type": "display_data"
    }
   ],
   "source": [
    "pos = nx.spring_layout(G)\n",
    "ec = nx.draw_networkx_edges(G, pos, alpha=0.2)\n",
    "nc = nx.draw_networkx_nodes(G, pos, \n",
    "                            nodelist=G.nodes(), \n",
    "                            node_color=[data[attribute] for n,data in G.nodes(data=True)], \n",
    "                            with_labels=False, \n",
    "                            node_size=100, \n",
    "                            cmap=plt.cm.jet)\n",
    "plt.axis('off')\n",
    "plt.show()"
   ]
  },
  {
   "cell_type": "markdown",
   "metadata": {},
   "source": [
    "***Pearson Correlation Coefficient***\n",
    "\n",
    "Implemented from scratch"
   ]
  },
  {
   "cell_type": "code",
   "execution_count": 4,
   "metadata": {},
   "outputs": [],
   "source": [
    "def correlation(e):\n",
    "    numerator = sum([(j*k)*(e.loc[j,k]-(e.loc[j,:].sum()*e.loc[:,k].sum())) for j,k in product(e.index,e.columns)])\n",
    "    denominator_j = sum([(j**2)*e.loc[j,:].sum() for j in e.index]) - (sum([j*e.loc[j,:].sum() for j in e.index]))**2\n",
    "    denominator_k = sum([(k**2)*e.loc[:,k].sum() for k in e.columns]) - (sum([k*e.loc[:,k].sum() for k in e.columns]))**2\n",
    "    return numerator / np.sqrt(denominator_j*denominator_k)"
   ]
  },
  {
   "cell_type": "markdown",
   "metadata": {},
   "source": [
    "***Assortativity Coefficient***\n",
    "\n",
    "Implemented from scratch following:\n",
    "\n",
    "*Mixing patterns in networks by M. E. J. Newman*\n",
    "\n",
    "https://arxiv.org/pdf/cond-mat/0209450.pdf"
   ]
  },
  {
   "cell_type": "code",
   "execution_count": 5,
   "metadata": {},
   "outputs": [],
   "source": [
    "# https://arxiv.org/pdf/cond-mat/0209450.pdf\n",
    "# Mixing patterns in networks. M. E. J. Newman\n",
    "def assortativity_coef(G):\n",
    "    # https://www.nature.com/articles/srep15450\n",
    "    # eq. 4\n",
    "    Ne = float(G.number_of_edges())\n",
    "    num_1 = sum([G.degree(e[0])*G.degree(e[1]) for e in G.edges()]) / Ne\n",
    "    num_2 = (sum([ (1/2)*(G.degree(e[0])+G.degree(e[1])) for e in G.edges()] ) / Ne)**2\n",
    "    den_1 = sum([(1/2) * (G.degree(e[0])**2 + G.degree(e[1])**2) for e in G.edges() ]) / Ne\n",
    "    den_2 = num_2\n",
    "    return (num_1-num_2)/(den_1-den_2)"
   ]
  },
  {
   "cell_type": "markdown",
   "metadata": {},
   "source": [
    "***Degree-Degree Correlation***"
   ]
  },
  {
   "cell_type": "code",
   "execution_count": 6,
   "metadata": {},
   "outputs": [],
   "source": [
    "def degree_correlation_matrix(G):\n",
    "    pairs = [(G.degree(edge[0]),G.degree(edge[1])) for edge in G.edges()]\n",
    "    \n",
    "    if not G.is_directed():\n",
    "        pairs.extend([(b,a) for a,b in pairs])\n",
    "        \n",
    "    index = list(zip(*pairs))\n",
    "    index = sorted(set(index[0])|set(index[1]))\n",
    "    \n",
    "    df = pd.DataFrame(index=index,columns=index)\n",
    "    df.fillna(0,inplace=True)\n",
    "    for p in pairs:\n",
    "        df.loc[p[0],p[1]] += 1\n",
    "    df /= df.values.sum()\n",
    "    return df"
   ]
  },
  {
   "cell_type": "code",
   "execution_count": 7,
   "metadata": {},
   "outputs": [
    {
     "data": {
      "text/html": [
       "<div>\n",
       "<style scoped>\n",
       "    .dataframe tbody tr th:only-of-type {\n",
       "        vertical-align: middle;\n",
       "    }\n",
       "\n",
       "    .dataframe tbody tr th {\n",
       "        vertical-align: top;\n",
       "    }\n",
       "\n",
       "    .dataframe thead th {\n",
       "        text-align: right;\n",
       "    }\n",
       "</style>\n",
       "<table border=\"1\" class=\"dataframe\">\n",
       "  <thead>\n",
       "    <tr style=\"text-align: right;\">\n",
       "      <th></th>\n",
       "      <th>2</th>\n",
       "      <th>3</th>\n",
       "      <th>4</th>\n",
       "      <th>5</th>\n",
       "      <th>6</th>\n",
       "      <th>7</th>\n",
       "      <th>8</th>\n",
       "      <th>9</th>\n",
       "      <th>10</th>\n",
       "      <th>11</th>\n",
       "    </tr>\n",
       "  </thead>\n",
       "  <tbody>\n",
       "    <tr>\n",
       "      <th>2</th>\n",
       "      <td>0.000000</td>\n",
       "      <td>0.000000</td>\n",
       "      <td>0.000000</td>\n",
       "      <td>0.007937</td>\n",
       "      <td>0.000000</td>\n",
       "      <td>0.000000</td>\n",
       "      <td>0.000000</td>\n",
       "      <td>0.007937</td>\n",
       "      <td>0.023810</td>\n",
       "      <td>0.007937</td>\n",
       "    </tr>\n",
       "    <tr>\n",
       "      <th>3</th>\n",
       "      <td>0.000000</td>\n",
       "      <td>0.000000</td>\n",
       "      <td>0.000000</td>\n",
       "      <td>0.007937</td>\n",
       "      <td>0.007937</td>\n",
       "      <td>0.000000</td>\n",
       "      <td>0.000000</td>\n",
       "      <td>0.000000</td>\n",
       "      <td>0.007937</td>\n",
       "      <td>0.000000</td>\n",
       "    </tr>\n",
       "    <tr>\n",
       "      <th>4</th>\n",
       "      <td>0.000000</td>\n",
       "      <td>0.000000</td>\n",
       "      <td>0.000000</td>\n",
       "      <td>0.007937</td>\n",
       "      <td>0.000000</td>\n",
       "      <td>0.000000</td>\n",
       "      <td>0.007937</td>\n",
       "      <td>0.007937</td>\n",
       "      <td>0.007937</td>\n",
       "      <td>0.000000</td>\n",
       "    </tr>\n",
       "    <tr>\n",
       "      <th>5</th>\n",
       "      <td>0.007937</td>\n",
       "      <td>0.007937</td>\n",
       "      <td>0.007937</td>\n",
       "      <td>0.000000</td>\n",
       "      <td>0.023810</td>\n",
       "      <td>0.000000</td>\n",
       "      <td>0.007937</td>\n",
       "      <td>0.000000</td>\n",
       "      <td>0.015873</td>\n",
       "      <td>0.007937</td>\n",
       "    </tr>\n",
       "    <tr>\n",
       "      <th>6</th>\n",
       "      <td>0.000000</td>\n",
       "      <td>0.007937</td>\n",
       "      <td>0.000000</td>\n",
       "      <td>0.023810</td>\n",
       "      <td>0.031746</td>\n",
       "      <td>0.015873</td>\n",
       "      <td>0.023810</td>\n",
       "      <td>0.071429</td>\n",
       "      <td>0.039683</td>\n",
       "      <td>0.023810</td>\n",
       "    </tr>\n",
       "    <tr>\n",
       "      <th>7</th>\n",
       "      <td>0.000000</td>\n",
       "      <td>0.000000</td>\n",
       "      <td>0.000000</td>\n",
       "      <td>0.000000</td>\n",
       "      <td>0.015873</td>\n",
       "      <td>0.000000</td>\n",
       "      <td>0.000000</td>\n",
       "      <td>0.015873</td>\n",
       "      <td>0.015873</td>\n",
       "      <td>0.007937</td>\n",
       "    </tr>\n",
       "    <tr>\n",
       "      <th>8</th>\n",
       "      <td>0.000000</td>\n",
       "      <td>0.000000</td>\n",
       "      <td>0.007937</td>\n",
       "      <td>0.007937</td>\n",
       "      <td>0.023810</td>\n",
       "      <td>0.000000</td>\n",
       "      <td>0.000000</td>\n",
       "      <td>0.015873</td>\n",
       "      <td>0.007937</td>\n",
       "      <td>0.000000</td>\n",
       "    </tr>\n",
       "    <tr>\n",
       "      <th>9</th>\n",
       "      <td>0.007937</td>\n",
       "      <td>0.000000</td>\n",
       "      <td>0.007937</td>\n",
       "      <td>0.000000</td>\n",
       "      <td>0.071429</td>\n",
       "      <td>0.015873</td>\n",
       "      <td>0.015873</td>\n",
       "      <td>0.047619</td>\n",
       "      <td>0.023810</td>\n",
       "      <td>0.023810</td>\n",
       "    </tr>\n",
       "    <tr>\n",
       "      <th>10</th>\n",
       "      <td>0.023810</td>\n",
       "      <td>0.007937</td>\n",
       "      <td>0.007937</td>\n",
       "      <td>0.015873</td>\n",
       "      <td>0.039683</td>\n",
       "      <td>0.015873</td>\n",
       "      <td>0.007937</td>\n",
       "      <td>0.023810</td>\n",
       "      <td>0.000000</td>\n",
       "      <td>0.015873</td>\n",
       "    </tr>\n",
       "    <tr>\n",
       "      <th>11</th>\n",
       "      <td>0.007937</td>\n",
       "      <td>0.000000</td>\n",
       "      <td>0.000000</td>\n",
       "      <td>0.007937</td>\n",
       "      <td>0.023810</td>\n",
       "      <td>0.007937</td>\n",
       "      <td>0.000000</td>\n",
       "      <td>0.023810</td>\n",
       "      <td>0.015873</td>\n",
       "      <td>0.000000</td>\n",
       "    </tr>\n",
       "  </tbody>\n",
       "</table>\n",
       "</div>"
      ],
      "text/plain": [
       "          2         3         4         5         6         7         8   \\\n",
       "2   0.000000  0.000000  0.000000  0.007937  0.000000  0.000000  0.000000   \n",
       "3   0.000000  0.000000  0.000000  0.007937  0.007937  0.000000  0.000000   \n",
       "4   0.000000  0.000000  0.000000  0.007937  0.000000  0.000000  0.007937   \n",
       "5   0.007937  0.007937  0.007937  0.000000  0.023810  0.000000  0.007937   \n",
       "6   0.000000  0.007937  0.000000  0.023810  0.031746  0.015873  0.023810   \n",
       "7   0.000000  0.000000  0.000000  0.000000  0.015873  0.000000  0.000000   \n",
       "8   0.000000  0.000000  0.007937  0.007937  0.023810  0.000000  0.000000   \n",
       "9   0.007937  0.000000  0.007937  0.000000  0.071429  0.015873  0.015873   \n",
       "10  0.023810  0.007937  0.007937  0.015873  0.039683  0.015873  0.007937   \n",
       "11  0.007937  0.000000  0.000000  0.007937  0.023810  0.007937  0.000000   \n",
       "\n",
       "          9         10        11  \n",
       "2   0.007937  0.023810  0.007937  \n",
       "3   0.000000  0.007937  0.000000  \n",
       "4   0.007937  0.007937  0.000000  \n",
       "5   0.000000  0.015873  0.007937  \n",
       "6   0.071429  0.039683  0.023810  \n",
       "7   0.015873  0.015873  0.007937  \n",
       "8   0.015873  0.007937  0.000000  \n",
       "9   0.047619  0.023810  0.023810  \n",
       "10  0.023810  0.000000  0.015873  \n",
       "11  0.023810  0.015873  0.000000  "
      ]
     },
     "execution_count": 7,
     "metadata": {},
     "output_type": "execute_result"
    }
   ],
   "source": [
    "e=degree_correlation_matrix(G)\n",
    "e"
   ]
  },
  {
   "cell_type": "code",
   "execution_count": 8,
   "metadata": {},
   "outputs": [
    {
     "data": {
      "text/plain": [
       "-0.18579397862283245"
      ]
     },
     "execution_count": 8,
     "metadata": {},
     "output_type": "execute_result"
    }
   ],
   "source": [
    "correlation(e)"
   ]
  },
  {
   "cell_type": "code",
   "execution_count": 9,
   "metadata": {},
   "outputs": [
    {
     "data": {
      "text/plain": [
       "(-0.18579397862283356, 0.037258593420040537)"
      ]
     },
     "execution_count": 9,
     "metadata": {},
     "output_type": "execute_result"
    }
   ],
   "source": [
    "pairs = [(G.degree(e[0]),G.degree(e[1])) for e in G.edges()]\n",
    "if not G.is_directed():\n",
    "    pairs.extend([(b,a) for a,b in pairs])\n",
    "v1,v2=zip(*pairs)\n",
    "pearsonr(v1,v2)"
   ]
  },
  {
   "cell_type": "code",
   "execution_count": 10,
   "metadata": {},
   "outputs": [
    {
     "data": {
      "text/plain": [
       "-0.18579397862283248"
      ]
     },
     "execution_count": 10,
     "metadata": {},
     "output_type": "execute_result"
    }
   ],
   "source": [
    "nx.degree_assortativity_coefficient(G)"
   ]
  },
  {
   "cell_type": "code",
   "execution_count": 11,
   "metadata": {},
   "outputs": [
    {
     "data": {
      "text/plain": [
       "-0.18579397862283334"
      ]
     },
     "execution_count": 11,
     "metadata": {},
     "output_type": "execute_result"
    }
   ],
   "source": [
    "assortativity_coef(G)"
   ]
  },
  {
   "cell_type": "markdown",
   "metadata": {},
   "source": [
    "***Attribute-Attribute Correlation***"
   ]
  },
  {
   "cell_type": "code",
   "execution_count": 12,
   "metadata": {},
   "outputs": [],
   "source": [
    "def attribute_correlation_matrix(G, attribute):\n",
    "    node_attributes = nx.get_node_attributes(G=G, name=attribute)\n",
    "    if not node_attributes:\n",
    "        raise Exception('attribute \\'{}\\' does not exist.'.format(attribute))\n",
    "        \n",
    "    pairs = [(G.node[edge[0]][attribute],G.node[edge[1]][attribute]) for edge in G.edges()]\n",
    "    \n",
    "    if not G.is_directed():\n",
    "        pairs.extend([(b,a) for a,b in pairs])\n",
    "    \n",
    "    index = sorted(set(node_attributes.values()))\n",
    "\n",
    "    df = pd.DataFrame(index=index,columns=index)\n",
    "    df.fillna(0,inplace=True)\n",
    "    for p in pairs:\n",
    "        df.loc[p[0],p[1]] += 1\n",
    "    df /= df.values.sum()\n",
    "    return df"
   ]
  },
  {
   "cell_type": "code",
   "execution_count": 13,
   "metadata": {},
   "outputs": [
    {
     "data": {
      "text/plain": [
       "-0.081818181818181457"
      ]
     },
     "execution_count": 13,
     "metadata": {},
     "output_type": "execute_result"
    }
   ],
   "source": [
    "e=attribute_correlation_matrix(G,attribute)\n",
    "correlation(e)"
   ]
  },
  {
   "cell_type": "code",
   "execution_count": 14,
   "metadata": {},
   "outputs": [
    {
     "data": {
      "text/plain": [
       "(-0.081818181818181859, 0.36241026353745431)"
      ]
     },
     "execution_count": 14,
     "metadata": {},
     "output_type": "execute_result"
    }
   ],
   "source": [
    "pairs = [(G.node[e[0]][attribute],G.node[e[1]][attribute]) for e in G.edges()]\n",
    "if not G.is_directed():\n",
    "    pairs.extend([(b,a) for a,b in pairs])\n",
    "v1,v2=zip(*pairs)\n",
    "pearsonr(v1,v2)"
   ]
  },
  {
   "cell_type": "code",
   "execution_count": 15,
   "metadata": {},
   "outputs": [
    {
     "data": {
      "text/plain": [
       "-0.08181818181818179"
      ]
     },
     "execution_count": 15,
     "metadata": {},
     "output_type": "execute_result"
    }
   ],
   "source": [
    "nx.attribute_assortativity_coefficient(G,attribute)"
   ]
  },
  {
   "cell_type": "markdown",
   "metadata": {},
   "source": [
    "***Degree-Attribute Correlation***"
   ]
  },
  {
   "cell_type": "code",
   "execution_count": 16,
   "metadata": {},
   "outputs": [],
   "source": [
    "def degree_attribute_correlation_matrix(G, attribute):\n",
    "    node_attributes = nx.get_node_attributes(G=G, name=attribute)\n",
    "    if not node_attributes:\n",
    "        raise Exception('attribute \\'{}\\' does not exist.'.format(attribute))\n",
    "        \n",
    "    pairs = [(G.degree(n),G.node[n][attribute]) for n in G.nodes()]\n",
    "    index, columns = zip(*pairs)\n",
    "    \n",
    "    index = sorted(set(index))\n",
    "    columns = sorted(set(columns))\n",
    "    \n",
    "    df = pd.DataFrame(index=index,columns=columns)\n",
    "    df.fillna(0,inplace=True)\n",
    "    for p in pairs:\n",
    "        df.loc[p[0],p[1]] += 1\n",
    "    df /= df.values.sum()\n",
    "    return df"
   ]
  },
  {
   "cell_type": "code",
   "execution_count": 17,
   "metadata": {},
   "outputs": [
    {
     "data": {
      "text/html": [
       "<div>\n",
       "<style scoped>\n",
       "    .dataframe tbody tr th:only-of-type {\n",
       "        vertical-align: middle;\n",
       "    }\n",
       "\n",
       "    .dataframe tbody tr th {\n",
       "        vertical-align: top;\n",
       "    }\n",
       "\n",
       "    .dataframe thead th {\n",
       "        text-align: right;\n",
       "    }\n",
       "</style>\n",
       "<table border=\"1\" class=\"dataframe\">\n",
       "  <thead>\n",
       "    <tr style=\"text-align: right;\">\n",
       "      <th></th>\n",
       "      <th>0</th>\n",
       "      <th>1</th>\n",
       "    </tr>\n",
       "  </thead>\n",
       "  <tbody>\n",
       "    <tr>\n",
       "      <th>2</th>\n",
       "      <td>0.10</td>\n",
       "      <td>0.05</td>\n",
       "    </tr>\n",
       "    <tr>\n",
       "      <th>3</th>\n",
       "      <td>0.00</td>\n",
       "      <td>0.05</td>\n",
       "    </tr>\n",
       "    <tr>\n",
       "      <th>4</th>\n",
       "      <td>0.05</td>\n",
       "      <td>0.00</td>\n",
       "    </tr>\n",
       "    <tr>\n",
       "      <th>5</th>\n",
       "      <td>0.05</td>\n",
       "      <td>0.05</td>\n",
       "    </tr>\n",
       "    <tr>\n",
       "      <th>6</th>\n",
       "      <td>0.10</td>\n",
       "      <td>0.15</td>\n",
       "    </tr>\n",
       "    <tr>\n",
       "      <th>7</th>\n",
       "      <td>0.05</td>\n",
       "      <td>0.00</td>\n",
       "    </tr>\n",
       "    <tr>\n",
       "      <th>8</th>\n",
       "      <td>0.05</td>\n",
       "      <td>0.00</td>\n",
       "    </tr>\n",
       "    <tr>\n",
       "      <th>9</th>\n",
       "      <td>0.05</td>\n",
       "      <td>0.10</td>\n",
       "    </tr>\n",
       "    <tr>\n",
       "      <th>10</th>\n",
       "      <td>0.00</td>\n",
       "      <td>0.10</td>\n",
       "    </tr>\n",
       "    <tr>\n",
       "      <th>11</th>\n",
       "      <td>0.05</td>\n",
       "      <td>0.00</td>\n",
       "    </tr>\n",
       "  </tbody>\n",
       "</table>\n",
       "</div>"
      ],
      "text/plain": [
       "       0     1\n",
       "2   0.10  0.05\n",
       "3   0.00  0.05\n",
       "4   0.05  0.00\n",
       "5   0.05  0.05\n",
       "6   0.10  0.15\n",
       "7   0.05  0.00\n",
       "8   0.05  0.00\n",
       "9   0.05  0.10\n",
       "10  0.00  0.10\n",
       "11  0.05  0.00"
      ]
     },
     "execution_count": 17,
     "metadata": {},
     "output_type": "execute_result"
    }
   ],
   "source": [
    "e=degree_attribute_correlation_matrix(G,attribute)\n",
    "e"
   ]
  },
  {
   "cell_type": "code",
   "execution_count": 18,
   "metadata": {},
   "outputs": [
    {
     "data": {
      "text/plain": [
       "0.10947155477532391"
      ]
     },
     "execution_count": 18,
     "metadata": {},
     "output_type": "execute_result"
    }
   ],
   "source": [
    "correlation(e)"
   ]
  },
  {
   "cell_type": "code",
   "execution_count": 19,
   "metadata": {},
   "outputs": [
    {
     "data": {
      "text/plain": [
       "(0.10947155477532401, 0.6459228826148653)"
      ]
     },
     "execution_count": 19,
     "metadata": {},
     "output_type": "execute_result"
    }
   ],
   "source": [
    "v1,v2=zip(*[(G.degree(n),G.node[n][attribute]) for n in G.nodes()])\n",
    "pearsonr(v1,v2)"
   ]
  },
  {
   "cell_type": "markdown",
   "metadata": {},
   "source": [
    "***Degree-Degree Monophily Correlation***"
   ]
  },
  {
   "cell_type": "code",
   "execution_count": 20,
   "metadata": {},
   "outputs": [],
   "source": [
    "def degree_monophily_correlation_matrix(G):\n",
    "    pairs = [(G.degree(j),G.degree(k)) for i in G.nodes() for (j,k) in permutations(G.neighbors(i),2)]\n",
    " \n",
    "    index = list(zip(*pairs))\n",
    "    index = sorted(set(index[0])|set(index[1]))\n",
    "    \n",
    "    df = pd.DataFrame(index=index,columns=index)\n",
    "    df.fillna(0,inplace=True)\n",
    "    for p in pairs:\n",
    "        df.loc[p[0],p[1]] += 1\n",
    "    df /= df.values.sum()\n",
    "    return df"
   ]
  },
  {
   "cell_type": "code",
   "execution_count": 21,
   "metadata": {},
   "outputs": [
    {
     "data": {
      "text/html": [
       "<div>\n",
       "<style scoped>\n",
       "    .dataframe tbody tr th:only-of-type {\n",
       "        vertical-align: middle;\n",
       "    }\n",
       "\n",
       "    .dataframe tbody tr th {\n",
       "        vertical-align: top;\n",
       "    }\n",
       "\n",
       "    .dataframe thead th {\n",
       "        text-align: right;\n",
       "    }\n",
       "</style>\n",
       "<table border=\"1\" class=\"dataframe\">\n",
       "  <thead>\n",
       "    <tr style=\"text-align: right;\">\n",
       "      <th></th>\n",
       "      <th>2</th>\n",
       "      <th>3</th>\n",
       "      <th>4</th>\n",
       "      <th>5</th>\n",
       "      <th>6</th>\n",
       "      <th>7</th>\n",
       "      <th>8</th>\n",
       "      <th>9</th>\n",
       "      <th>10</th>\n",
       "      <th>11</th>\n",
       "    </tr>\n",
       "  </thead>\n",
       "  <tbody>\n",
       "    <tr>\n",
       "      <th>2</th>\n",
       "      <td>0.002445</td>\n",
       "      <td>0.001222</td>\n",
       "      <td>0.003667</td>\n",
       "      <td>0.004890</td>\n",
       "      <td>0.018337</td>\n",
       "      <td>0.006112</td>\n",
       "      <td>0.003667</td>\n",
       "      <td>0.011002</td>\n",
       "      <td>0.003667</td>\n",
       "      <td>0.004890</td>\n",
       "    </tr>\n",
       "    <tr>\n",
       "      <th>3</th>\n",
       "      <td>0.001222</td>\n",
       "      <td>0.000000</td>\n",
       "      <td>0.001222</td>\n",
       "      <td>0.002445</td>\n",
       "      <td>0.006112</td>\n",
       "      <td>0.001222</td>\n",
       "      <td>0.001222</td>\n",
       "      <td>0.004890</td>\n",
       "      <td>0.001222</td>\n",
       "      <td>0.002445</td>\n",
       "    </tr>\n",
       "    <tr>\n",
       "      <th>4</th>\n",
       "      <td>0.003667</td>\n",
       "      <td>0.001222</td>\n",
       "      <td>0.000000</td>\n",
       "      <td>0.002445</td>\n",
       "      <td>0.011002</td>\n",
       "      <td>0.002445</td>\n",
       "      <td>0.001222</td>\n",
       "      <td>0.007335</td>\n",
       "      <td>0.002445</td>\n",
       "      <td>0.002445</td>\n",
       "    </tr>\n",
       "    <tr>\n",
       "      <th>5</th>\n",
       "      <td>0.004890</td>\n",
       "      <td>0.002445</td>\n",
       "      <td>0.002445</td>\n",
       "      <td>0.000000</td>\n",
       "      <td>0.018337</td>\n",
       "      <td>0.006112</td>\n",
       "      <td>0.003667</td>\n",
       "      <td>0.018337</td>\n",
       "      <td>0.007335</td>\n",
       "      <td>0.004890</td>\n",
       "    </tr>\n",
       "    <tr>\n",
       "      <th>6</th>\n",
       "      <td>0.018337</td>\n",
       "      <td>0.006112</td>\n",
       "      <td>0.011002</td>\n",
       "      <td>0.018337</td>\n",
       "      <td>0.051345</td>\n",
       "      <td>0.019560</td>\n",
       "      <td>0.014670</td>\n",
       "      <td>0.062347</td>\n",
       "      <td>0.035452</td>\n",
       "      <td>0.024450</td>\n",
       "    </tr>\n",
       "    <tr>\n",
       "      <th>7</th>\n",
       "      <td>0.006112</td>\n",
       "      <td>0.001222</td>\n",
       "      <td>0.002445</td>\n",
       "      <td>0.006112</td>\n",
       "      <td>0.019560</td>\n",
       "      <td>0.000000</td>\n",
       "      <td>0.002445</td>\n",
       "      <td>0.017115</td>\n",
       "      <td>0.004890</td>\n",
       "      <td>0.006112</td>\n",
       "    </tr>\n",
       "    <tr>\n",
       "      <th>8</th>\n",
       "      <td>0.003667</td>\n",
       "      <td>0.001222</td>\n",
       "      <td>0.001222</td>\n",
       "      <td>0.003667</td>\n",
       "      <td>0.014670</td>\n",
       "      <td>0.002445</td>\n",
       "      <td>0.000000</td>\n",
       "      <td>0.013447</td>\n",
       "      <td>0.011002</td>\n",
       "      <td>0.006112</td>\n",
       "    </tr>\n",
       "    <tr>\n",
       "      <th>9</th>\n",
       "      <td>0.011002</td>\n",
       "      <td>0.004890</td>\n",
       "      <td>0.007335</td>\n",
       "      <td>0.018337</td>\n",
       "      <td>0.062347</td>\n",
       "      <td>0.017115</td>\n",
       "      <td>0.013447</td>\n",
       "      <td>0.031785</td>\n",
       "      <td>0.034230</td>\n",
       "      <td>0.019560</td>\n",
       "    </tr>\n",
       "    <tr>\n",
       "      <th>10</th>\n",
       "      <td>0.003667</td>\n",
       "      <td>0.001222</td>\n",
       "      <td>0.002445</td>\n",
       "      <td>0.007335</td>\n",
       "      <td>0.035452</td>\n",
       "      <td>0.004890</td>\n",
       "      <td>0.011002</td>\n",
       "      <td>0.034230</td>\n",
       "      <td>0.014670</td>\n",
       "      <td>0.012225</td>\n",
       "    </tr>\n",
       "    <tr>\n",
       "      <th>11</th>\n",
       "      <td>0.004890</td>\n",
       "      <td>0.002445</td>\n",
       "      <td>0.002445</td>\n",
       "      <td>0.004890</td>\n",
       "      <td>0.024450</td>\n",
       "      <td>0.006112</td>\n",
       "      <td>0.006112</td>\n",
       "      <td>0.019560</td>\n",
       "      <td>0.012225</td>\n",
       "      <td>0.000000</td>\n",
       "    </tr>\n",
       "  </tbody>\n",
       "</table>\n",
       "</div>"
      ],
      "text/plain": [
       "          2         3         4         5         6         7         8   \\\n",
       "2   0.002445  0.001222  0.003667  0.004890  0.018337  0.006112  0.003667   \n",
       "3   0.001222  0.000000  0.001222  0.002445  0.006112  0.001222  0.001222   \n",
       "4   0.003667  0.001222  0.000000  0.002445  0.011002  0.002445  0.001222   \n",
       "5   0.004890  0.002445  0.002445  0.000000  0.018337  0.006112  0.003667   \n",
       "6   0.018337  0.006112  0.011002  0.018337  0.051345  0.019560  0.014670   \n",
       "7   0.006112  0.001222  0.002445  0.006112  0.019560  0.000000  0.002445   \n",
       "8   0.003667  0.001222  0.001222  0.003667  0.014670  0.002445  0.000000   \n",
       "9   0.011002  0.004890  0.007335  0.018337  0.062347  0.017115  0.013447   \n",
       "10  0.003667  0.001222  0.002445  0.007335  0.035452  0.004890  0.011002   \n",
       "11  0.004890  0.002445  0.002445  0.004890  0.024450  0.006112  0.006112   \n",
       "\n",
       "          9         10        11  \n",
       "2   0.011002  0.003667  0.004890  \n",
       "3   0.004890  0.001222  0.002445  \n",
       "4   0.007335  0.002445  0.002445  \n",
       "5   0.018337  0.007335  0.004890  \n",
       "6   0.062347  0.035452  0.024450  \n",
       "7   0.017115  0.004890  0.006112  \n",
       "8   0.013447  0.011002  0.006112  \n",
       "9   0.031785  0.034230  0.019560  \n",
       "10  0.034230  0.014670  0.012225  \n",
       "11  0.019560  0.012225  0.000000  "
      ]
     },
     "execution_count": 21,
     "metadata": {},
     "output_type": "execute_result"
    }
   ],
   "source": [
    "e=degree_monophily_correlation_matrix(G)\n",
    "e"
   ]
  },
  {
   "cell_type": "code",
   "execution_count": 22,
   "metadata": {},
   "outputs": [
    {
     "data": {
      "text/plain": [
       "0.034794077595335739"
      ]
     },
     "execution_count": 22,
     "metadata": {},
     "output_type": "execute_result"
    }
   ],
   "source": [
    "correlation(e)"
   ]
  },
  {
   "cell_type": "code",
   "execution_count": 23,
   "metadata": {},
   "outputs": [
    {
     "data": {
      "text/plain": [
       "(0.034794077595335565, 0.32026466525432784)"
      ]
     },
     "execution_count": 23,
     "metadata": {},
     "output_type": "execute_result"
    }
   ],
   "source": [
    "v1,v2 = zip(*[(G.degree(j),G.degree(k)) for i in G.nodes() for (j,k) in permutations(G.neighbors(i),2)])\n",
    "pearsonr(v1,v2)"
   ]
  },
  {
   "cell_type": "markdown",
   "metadata": {},
   "source": [
    "***Attribute-Attribute Monophily correlation***"
   ]
  },
  {
   "cell_type": "code",
   "execution_count": 24,
   "metadata": {},
   "outputs": [],
   "source": [
    "def attribute_monophily_correlation_matrix(G, attribute):\n",
    "    node_attributes = nx.get_node_attributes(G=G, name=attribute)\n",
    "    if not node_attributes:\n",
    "        raise Exception('attribute \\'{}\\' does not exist.'.format(attribute))\n",
    "        \n",
    "    pairs = [(G.node[j][attribute],G.node[k][attribute]) for i in G.nodes() for (j,k) in permutations(G.neighbors(i),2)]\n",
    "    index = sorted(set(node_attributes.values()))\n",
    "\n",
    "    df = pd.DataFrame(index=index,columns=index)\n",
    "    df.fillna(0,inplace=True)\n",
    "    for p in pairs:\n",
    "        df.loc[p[0],p[1]] += 1\n",
    "    df /= df.values.sum()\n",
    "    return df"
   ]
  },
  {
   "cell_type": "code",
   "execution_count": 25,
   "metadata": {},
   "outputs": [
    {
     "data": {
      "text/html": [
       "<div>\n",
       "<style scoped>\n",
       "    .dataframe tbody tr th:only-of-type {\n",
       "        vertical-align: middle;\n",
       "    }\n",
       "\n",
       "    .dataframe tbody tr th {\n",
       "        vertical-align: top;\n",
       "    }\n",
       "\n",
       "    .dataframe thead th {\n",
       "        text-align: right;\n",
       "    }\n",
       "</style>\n",
       "<table border=\"1\" class=\"dataframe\">\n",
       "  <thead>\n",
       "    <tr style=\"text-align: right;\">\n",
       "      <th></th>\n",
       "      <th>0</th>\n",
       "      <th>1</th>\n",
       "    </tr>\n",
       "  </thead>\n",
       "  <tbody>\n",
       "    <tr>\n",
       "      <th>0</th>\n",
       "      <td>0.215159</td>\n",
       "      <td>0.272616</td>\n",
       "    </tr>\n",
       "    <tr>\n",
       "      <th>1</th>\n",
       "      <td>0.272616</td>\n",
       "      <td>0.239609</td>\n",
       "    </tr>\n",
       "  </tbody>\n",
       "</table>\n",
       "</div>"
      ],
      "text/plain": [
       "          0         1\n",
       "0  0.215159  0.272616\n",
       "1  0.272616  0.239609"
      ]
     },
     "execution_count": 25,
     "metadata": {},
     "output_type": "execute_result"
    }
   ],
   "source": [
    "e=attribute_monophily_correlation_matrix(G,attribute)\n",
    "e"
   ]
  },
  {
   "cell_type": "code",
   "execution_count": 26,
   "metadata": {},
   "outputs": [
    {
     "data": {
      "text/plain": [
       "-0.091116813513497402"
      ]
     },
     "execution_count": 26,
     "metadata": {},
     "output_type": "execute_result"
    }
   ],
   "source": [
    "correlation(e)"
   ]
  },
  {
   "cell_type": "code",
   "execution_count": 27,
   "metadata": {},
   "outputs": [
    {
     "data": {
      "text/plain": [
       "(-0.091116813513497319, 0.0091220684267851772)"
      ]
     },
     "execution_count": 27,
     "metadata": {},
     "output_type": "execute_result"
    }
   ],
   "source": [
    "v1,v2 = zip(*[(G.node[j][attribute],G.node[k][attribute]) for i in G.nodes() for (j,k) in permutations(G.neighbors(i),2)])\n",
    "pearsonr(v1,v2)"
   ]
  }
 ],
 "metadata": {
  "kernelspec": {
   "display_name": "Python 3",
   "language": "python",
   "name": "python3"
  },
  "language_info": {
   "codemirror_mode": {
    "name": "ipython",
    "version": 3
   },
   "file_extension": ".py",
   "mimetype": "text/x-python",
   "name": "python",
   "nbconvert_exporter": "python",
   "pygments_lexer": "ipython3",
   "version": "3.6.2"
  }
 },
 "nbformat": 4,
 "nbformat_minor": 2
}
