{
 "cells": [
  {
   "cell_type": "code",
   "execution_count": 1,
   "metadata": {},
   "outputs": [],
   "source": [
    "%matplotlib inline\n",
    "import operator\n",
    "\n",
    "import numpy as np\n",
    "import pandas as pd\n",
    "import networkx as nx\n",
    "\n",
    "from scipy.stats import pearsonr\n",
    "from itertools import product\n",
    "from itertools import combinations\n",
    "from itertools import permutations\n",
    "\n",
    "import matplotlib.pyplot as plt"
   ]
  },
  {
   "cell_type": "markdown",
   "metadata": {},
   "source": [
    "**Toy-Example**:<br />\n",
    "Random network G=(N,p)<br />\n",
    "Binary node-attribute: color"
   ]
  },
  {
   "cell_type": "code",
   "execution_count": 2,
   "metadata": {},
   "outputs": [
    {
     "name": "stdout",
     "output_type": "stream",
     "text": [
      "Name: \n",
      "Type: Graph\n",
      "Number of nodes: 20\n",
      "Number of edges: 83\n",
      "Average degree:   8.3000\n"
     ]
    }
   ],
   "source": [
    "N=20\n",
    "p=0.4\n",
    "attribute = 'color'\n",
    "G = nx.erdos_renyi_graph(n=N,p=p)\n",
    "nx.set_node_attributes(G, name=attribute, values={i:np.random.choice([0,1]) for i in G.nodes()})\n",
    "print(nx.info(G))"
   ]
  },
  {
   "cell_type": "code",
   "execution_count": 3,
   "metadata": {},
   "outputs": [
    {
     "data": {
      "image/png": "[encoded data removed]",
      "text/plain": [
       "<matplotlib.figure.Figure at 0x10947c978>"
      ]
     },
     "metadata": {},
     "output_type": "display_data"
    }
   ],
   "source": [
    "colors={0:'red',1:'blue'}\n",
    "pos = nx.spring_layout(G)\n",
    "ec = nx.draw_networkx_edges(G, pos, alpha=0.2)\n",
    "nc = nx.draw_networkx_nodes(G, pos, nodelist=G.nodes(), node_color=[data[attribute] for n,data in G.nodes(data=True)], \n",
    "                            with_labels=False, node_size=100, cmap=plt.cm.jet)\n",
    "plt.axis('off')\n",
    "plt.show()"
   ]
  },
  {
   "cell_type": "markdown",
   "metadata": {},
   "source": [
    "***Pearson Correlation Coefficient***\n",
    "\n",
    "Implemented from scratch"
   ]
  },
  {
   "cell_type": "code",
   "execution_count": 4,
   "metadata": {},
   "outputs": [],
   "source": [
    "def correlation(e):\n",
    "    numerator = sum([(j*k)*(e.loc[j,k]-(e.loc[j,:].sum()*e.loc[:,k].sum())) for j,k in product(e.index,e.columns)])\n",
    "    denominator_j = sum([(j**2)*e.loc[j,:].sum() for j in e.index]) - (sum([j*e.loc[j,:].sum() for j in e.index]))**2\n",
    "    denominator_k = sum([(k**2)*e.loc[:,k].sum() for k in e.columns]) - (sum([k*e.loc[:,k].sum() for k in e.columns]))**2\n",
    "    return numerator / np.sqrt(denominator_j*denominator_k)"
   ]
  },
  {
   "cell_type": "markdown",
   "metadata": {},
   "source": [
    "***Degree-Degree Correlation***"
   ]
  },
  {
   "cell_type": "code",
   "execution_count": 5,
   "metadata": {},
   "outputs": [],
   "source": [
    "def degree_correlation_matrix(G):\n",
    "    pairs = [(G.degree(edge[0]),G.degree(edge[1])) for edge in G.edges()]\n",
    "    index = list(zip(*pairs))\n",
    "    index = sorted(set(index[0])|set(index[1]))\n",
    "    \n",
    "    df = pd.DataFrame(index=index,columns=index)\n",
    "    df.fillna(0,inplace=True)\n",
    "    for p in pairs:\n",
    "        df.loc[p[0],p[1]] += 1\n",
    "    df /= df.values.sum()\n",
    "    return df"
   ]
  },
  {
   "cell_type": "code",
   "execution_count": 6,
   "metadata": {},
   "outputs": [
    {
     "data": {
      "text/plain": [
       "-0.064438678816069753"
      ]
     },
     "execution_count": 6,
     "metadata": {},
     "output_type": "execute_result"
    }
   ],
   "source": [
    "e=degree_correlation_matrix(G)\n",
    "correlation(e)"
   ]
  },
  {
   "cell_type": "code",
   "execution_count": 7,
   "metadata": {},
   "outputs": [
    {
     "data": {
      "text/plain": [
       "(-0.064438678816068323, 0.56274902693105511)"
      ]
     },
     "execution_count": 7,
     "metadata": {},
     "output_type": "execute_result"
    }
   ],
   "source": [
    "v1,v2=zip(*[(G.degree(e[0]),G.degree(e[1])) for e in G.edges()])\n",
    "pearsonr(v1,v2)"
   ]
  },
  {
   "cell_type": "code",
   "execution_count": 8,
   "metadata": {},
   "outputs": [
    {
     "data": {
      "text/plain": [
       "-0.06481275491286663"
      ]
     },
     "execution_count": 8,
     "metadata": {},
     "output_type": "execute_result"
    }
   ],
   "source": [
    "nx.degree_assortativity_coefficient(G)"
   ]
  },
  {
   "cell_type": "markdown",
   "metadata": {},
   "source": [
    "***Attribute-Attribute Correlation*** (homophily)"
   ]
  },
  {
   "cell_type": "code",
   "execution_count": 9,
   "metadata": {},
   "outputs": [],
   "source": [
    "def attribute_correlation_matrix(G, attribute):\n",
    "    node_attributes = nx.get_node_attributes(G=G, name=attribute)\n",
    "    if not node_attributes:\n",
    "        raise Exception('attribute \\'{}\\' does not exist.'.format(attribute))\n",
    "        \n",
    "    pairs = [(G.node[edge[0]][attribute],G.node[edge[1]][attribute]) for edge in G.edges()]\n",
    "    index = sorted(set(node_attributes.values()))\n",
    "\n",
    "    df = pd.DataFrame(index=index,columns=index)\n",
    "    df.fillna(0,inplace=True)\n",
    "    for p in pairs:\n",
    "        df.loc[p[0],p[1]] += 1\n",
    "    df /= df.values.sum()\n",
    "    return df"
   ]
  },
  {
   "cell_type": "code",
   "execution_count": 10,
   "metadata": {},
   "outputs": [
    {
     "data": {
      "text/plain": [
       "-0.035556262836708326"
      ]
     },
     "execution_count": 10,
     "metadata": {},
     "output_type": "execute_result"
    }
   ],
   "source": [
    "e=attribute_correlation_matrix(G,attribute)\n",
    "correlation(e)"
   ]
  },
  {
   "cell_type": "code",
   "execution_count": 11,
   "metadata": {},
   "outputs": [
    {
     "data": {
      "text/plain": [
       "(-0.035556262836708284, 0.74963457564799207)"
      ]
     },
     "execution_count": 11,
     "metadata": {},
     "output_type": "execute_result"
    }
   ],
   "source": [
    "v1,v2=zip(*[(G.node[e[0]][attribute],G.node[e[1]][attribute]) for e in G.edges()])\n",
    "pearsonr(v1,v2)"
   ]
  },
  {
   "cell_type": "code",
   "execution_count": 12,
   "metadata": {},
   "outputs": [
    {
     "data": {
      "text/plain": [
       "-0.035734543391945726"
      ]
     },
     "execution_count": 12,
     "metadata": {},
     "output_type": "execute_result"
    }
   ],
   "source": [
    "nx.attribute_assortativity_coefficient(G,attribute)"
   ]
  },
  {
   "cell_type": "markdown",
   "metadata": {},
   "source": [
    "***Degree-Attribute Correlation***"
   ]
  },
  {
   "cell_type": "code",
   "execution_count": 13,
   "metadata": {},
   "outputs": [],
   "source": [
    "def degree_attribute_correlation_matrix(G, attribute):\n",
    "    node_attributes = nx.get_node_attributes(G=G, name=attribute)\n",
    "    if not node_attributes:\n",
    "        raise Exception('attribute \\'{}\\' does not exist.'.format(attribute))\n",
    "        \n",
    "    pairs = [(G.degree(n),G.node[n][attribute]) for n in G.nodes()]\n",
    "    index, columns = zip(*pairs)\n",
    "    \n",
    "    index = sorted(set(index))\n",
    "    columns = sorted(set(columns))\n",
    "    \n",
    "    df = pd.DataFrame(index=index,columns=columns)\n",
    "    df.fillna(0,inplace=True)\n",
    "    for p in pairs:\n",
    "        df.loc[p[0],p[1]] += 1\n",
    "    df /= df.values.sum()\n",
    "    return df"
   ]
  },
  {
   "cell_type": "code",
   "execution_count": 14,
   "metadata": {},
   "outputs": [
    {
     "data": {
      "text/plain": [
       "0.29078953661477835"
      ]
     },
     "execution_count": 14,
     "metadata": {},
     "output_type": "execute_result"
    }
   ],
   "source": [
    "e=degree_attribute_correlation_matrix(G,attribute)\n",
    "correlation(e)"
   ]
  },
  {
   "cell_type": "code",
   "execution_count": 15,
   "metadata": {},
   "outputs": [
    {
     "data": {
      "text/plain": [
       "(0.29078953661477852, 0.21357000511486723)"
      ]
     },
     "execution_count": 15,
     "metadata": {},
     "output_type": "execute_result"
    }
   ],
   "source": [
    "v1,v2=zip(*[(G.degree(n),G.node[n][attribute]) for n in G.nodes()])\n",
    "pearsonr(v1,v2)"
   ]
  },
  {
   "cell_type": "markdown",
   "metadata": {},
   "source": [
    "***Degree-Degree Monophily Correlation***"
   ]
  },
  {
   "cell_type": "code",
   "execution_count": 16,
   "metadata": {},
   "outputs": [],
   "source": [
    "def degree_monophily_correlation_matrix(G):\n",
    "    pairs = [(G.degree(j),G.degree(k)) for i in G.nodes() for (j,k) in combinations(G.neighbors(i),2)]\n",
    "    index = list(zip(*pairs))\n",
    "    index = sorted(set(index[0])|set(index[1]))\n",
    "    \n",
    "    df = pd.DataFrame(index=index,columns=index)\n",
    "    df.fillna(0,inplace=True)\n",
    "    for p in pairs:\n",
    "        df.loc[p[0],p[1]] += 1\n",
    "    df /= df.values.sum()\n",
    "    return df"
   ]
  },
  {
   "cell_type": "code",
   "execution_count": 17,
   "metadata": {},
   "outputs": [
    {
     "data": {
      "text/plain": [
       "-0.067301505719347982"
      ]
     },
     "execution_count": 17,
     "metadata": {},
     "output_type": "execute_result"
    }
   ],
   "source": [
    "e=degree_monophily_correlation_matrix(G)\n",
    "correlation(e)"
   ]
  },
  {
   "cell_type": "code",
   "execution_count": 18,
   "metadata": {},
   "outputs": [
    {
     "data": {
      "text/plain": [
       "(-0.067301505719347635, 0.081494286746901748)"
      ]
     },
     "execution_count": 18,
     "metadata": {},
     "output_type": "execute_result"
    }
   ],
   "source": [
    "v1,v2 = zip(*[(G.degree(j),G.degree(k)) for i in G.nodes() for (j,k) in combinations(G.neighbors(i),2)])\n",
    "pearsonr(v1,v2)"
   ]
  },
  {
   "cell_type": "markdown",
   "metadata": {},
   "source": [
    "***Attribute-Attribute Monophily correlation***"
   ]
  },
  {
   "cell_type": "code",
   "execution_count": 19,
   "metadata": {},
   "outputs": [],
   "source": [
    "def attribute_monophily_correlation_matrix(G, attribute):\n",
    "    node_attributes = nx.get_node_attributes(G=G, name=attribute)\n",
    "    if not node_attributes:\n",
    "        raise Exception('attribute \\'{}\\' does not exist.'.format(attribute))\n",
    "        \n",
    "    pairs = [(G.node[j][attribute],G.node[k][attribute]) for i in G.nodes() for (j,k) in combinations(G.neighbors(i),2)]\n",
    "    index = sorted(set(node_attributes.values()))\n",
    "\n",
    "    df = pd.DataFrame(index=index,columns=index)\n",
    "    df.fillna(0,inplace=True)\n",
    "    for p in pairs:\n",
    "        df.loc[p[0],p[1]] += 1\n",
    "    df /= df.values.sum()\n",
    "    return df"
   ]
  },
  {
   "cell_type": "code",
   "execution_count": 20,
   "metadata": {},
   "outputs": [
    {
     "data": {
      "text/plain": [
       "-0.064772218456864025"
      ]
     },
     "execution_count": 20,
     "metadata": {},
     "output_type": "execute_result"
    }
   ],
   "source": [
    "e=attribute_monophily_correlation_matrix(G,attribute)\n",
    "correlation(e)"
   ]
  },
  {
   "cell_type": "code",
   "execution_count": 21,
   "metadata": {},
   "outputs": [
    {
     "data": {
      "text/plain": [
       "(-0.064772218456864081, 0.093646075828855688)"
      ]
     },
     "execution_count": 21,
     "metadata": {},
     "output_type": "execute_result"
    }
   ],
   "source": [
    "v1,v2 = zip(*[(G.node[j][attribute],G.node[k][attribute]) for i in G.nodes() for (j,k) in combinations(G.neighbors(i),2)])\n",
    "pearsonr(v1,v2)"
   ]
  }
 ],
 "metadata": {
  "kernelspec": {
   "display_name": "Python 3",
   "language": "python",
   "name": "python3"
  },
  "language_info": {
   "codemirror_mode": {
    "name": "ipython",
    "version": 3
   },
   "file_extension": ".py",
   "mimetype": "text/x-python",
   "name": "python",
   "nbconvert_exporter": "python",
   "pygments_lexer": "ipython3",
   "version": "3.6.2"
  }
 },
 "nbformat": 4,
 "nbformat_minor": 2
}
