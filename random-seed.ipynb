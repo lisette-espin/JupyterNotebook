{
 "cells": [
  {
   "cell_type": "code",
   "execution_count": 185,
   "metadata": {
    "collapsed": false
   },
   "outputs": [
    {
     "name": "stdout",
     "output_type": "stream",
     "text": [
      "RANDOM SELECTION: RED 0.5 - BLUE 0.5\n",
      "selecting 10% (100) | red:0.44, blue:0.56 | [ 0.  0.  1.  0.  1.] | [ 0.  1.  1.  0.  1.]\n",
      "selecting 20% (200) | red:0.52, blue:0.48 | [ 0.  0.  1.  1.  1.] | [ 0.  0.  0.  1.  1.]\n",
      "selecting 30% (300) | red:0.46, blue:0.54 | [ 1.  0.  1.  0.  0.] | [ 1.  0.  1.  0.  1.]\n",
      "selecting 40% (400) | red:0.49, blue:0.51 | [ 1.  1.  0.  0.  0.] | [ 0.  1.  0.  1.  0.]\n",
      "selecting 50% (500) | red:0.53, blue:0.47 | [ 1.  0.  0.  0.  0.] | [ 0.  1.  0.  0.  0.]\n",
      "selecting 60% (600) | red:0.47, blue:0.53 | [ 0.  0.  0.  0.  0.] | [ 1.  0.  1.  0.  1.]\n",
      "selecting 70% (700) | red:0.51, blue:0.49 | [ 1.  1.  0.  1.  0.] | [ 0.  0.  1.  1.  1.]\n",
      "selecting 80% (800) | red:0.50, blue:0.50 | [ 1.  1.  1.  0.  1.] | [ 1.  0.  0.  1.  1.]\n",
      "selecting 90% (900) | red:0.50, blue:0.50 | [ 1.  1.  0.  1.  1.] | [ 1.  1.  1.  0.  0.]\n",
      "\n",
      "RANDOM SELECTION: RED 0.6 - BLUE 0.4\n",
      "selecting 10% (100) | red:0.60, blue:0.40 | [ 0.  0.  0.  1.  1.] | [ 1.  0.  1.  1.  0.]\n",
      "selecting 20% (200) | red:0.60, blue:0.40 | [ 1.  1.  1.  1.  1.] | [ 1.  1.  0.  0.  1.]\n",
      "selecting 30% (300) | red:0.58, blue:0.42 | [ 1.  1.  1.  0.  0.] | [ 1.  1.  1.  0.  1.]\n",
      "selecting 40% (400) | red:0.60, blue:0.40 | [ 0.  0.  0.  0.  0.] | [ 0.  1.  0.  1.  1.]\n",
      "selecting 50% (500) | red:0.58, blue:0.42 | [ 0.  1.  0.  0.  1.] | [ 1.  1.  0.  1.  1.]\n",
      "selecting 60% (600) | red:0.59, blue:0.41 | [ 1.  1.  0.  0.  0.] | [ 0.  0.  0.  1.  1.]\n",
      "selecting 70% (700) | red:0.65, blue:0.35 | [ 0.  1.  0.  1.  1.] | [ 1.  0.  0.  1.  1.]\n",
      "selecting 80% (800) | red:0.61, blue:0.39 | [ 1.  0.  1.  1.  1.] | [ 0.  1.  1.  1.  0.]\n",
      "selecting 90% (900) | red:0.62, blue:0.38 | [ 1.  0.  1.  0.  0.] | [ 1.  1.  1.  1.  1.]\n",
      "\n",
      "RANDOM SELECTION: RED 0.7 - BLUE 0.3\n",
      "selecting 10% (100) | red:0.65, blue:0.35 | [ 0.  1.  1.  1.  1.] | [ 0.  1.  1.  1.  1.]\n",
      "selecting 20% (200) | red:0.62, blue:0.38 | [ 0.  0.  1.  1.  0.] | [ 1.  0.  1.  1.  1.]\n",
      "selecting 30% (300) | red:0.70, blue:0.30 | [ 0.  1.  1.  1.  1.] | [ 1.  0.  1.  0.  1.]\n",
      "selecting 40% (400) | red:0.67, blue:0.33 | [ 1.  1.  1.  0.  1.] | [ 1.  1.  1.  1.  0.]\n",
      "selecting 50% (500) | red:0.72, blue:0.28 | [ 0.  0.  1.  1.  0.] | [ 1.  0.  0.  1.  1.]\n",
      "selecting 60% (600) | red:0.71, blue:0.29 | [ 1.  1.  1.  1.  1.] | [ 1.  1.  1.  1.  0.]\n",
      "selecting 70% (700) | red:0.71, blue:0.29 | [ 1.  1.  1.  0.  0.] | [ 0.  1.  0.  0.  1.]\n",
      "selecting 80% (800) | red:0.67, blue:0.33 | [ 1.  0.  1.  1.  1.] | [ 1.  0.  1.  1.  0.]\n",
      "selecting 90% (900) | red:0.69, blue:0.31 | [ 1.  1.  1.  0.  1.] | [ 1.  0.  0.  0.  1.]\n",
      "\n",
      "RANDOM SELECTION: RED 0.8 - BLUE 0.2\n",
      "selecting 10% (100) | red:0.82, blue:0.18 | [ 1.  1.  1.  1.  1.] | [ 0.  1.  0.  1.  1.]\n",
      "selecting 20% (200) | red:0.80, blue:0.20 | [ 1.  1.  1.  1.  0.] | [ 1.  0.  1.  1.  1.]\n",
      "selecting 30% (300) | red:0.81, blue:0.19 | [ 1.  1.  1.  1.  1.] | [ 1.  1.  1.  0.  1.]\n",
      "selecting 40% (400) | red:0.80, blue:0.20 | [ 1.  0.  1.  1.  1.] | [ 1.  1.  1.  0.  1.]\n",
      "selecting 50% (500) | red:0.79, blue:0.21 | [ 0.  1.  1.  1.  1.] | [ 1.  1.  1.  0.  1.]\n",
      "selecting 60% (600) | red:0.82, blue:0.18 | [ 1.  1.  1.  1.  1.] | [ 1.  1.  1.  1.  1.]\n",
      "selecting 70% (700) | red:0.80, blue:0.20 | [ 1.  1.  1.  0.  1.] | [ 1.  1.  1.  1.  1.]\n",
      "selecting 80% (800) | red:0.80, blue:0.20 | [ 1.  1.  1.  0.  1.] | [ 1.  1.  1.  1.  1.]\n",
      "selecting 90% (900) | red:0.78, blue:0.22 | [ 1.  1.  1.  1.  1.] | [ 0.  0.  1.  1.  1.]\n",
      "\n",
      "RANDOM SELECTION: RED 0.9 - BLUE 0.1\n",
      "selecting 10% (100) | red:0.90, blue:0.10 | [ 1.  1.  0.  1.  1.] | [ 1.  1.  1.  1.  0.]\n",
      "selecting 20% (200) | red:0.86, blue:0.14 | [ 1.  1.  1.  1.  1.] | [ 1.  1.  1.  1.  1.]\n",
      "selecting 30% (300) | red:0.90, blue:0.10 | [ 1.  1.  0.  1.  1.] | [ 1.  1.  1.  1.  1.]\n",
      "selecting 40% (400) | red:0.88, blue:0.12 | [ 1.  1.  0.  1.  1.] | [ 1.  1.  1.  1.  1.]\n",
      "selecting 50% (500) | red:0.90, blue:0.10 | [ 1.  1.  1.  1.  0.] | [ 1.  1.  1.  1.  1.]\n",
      "selecting 60% (600) | red:0.89, blue:0.11 | [ 1.  1.  1.  1.  0.] | [ 1.  1.  1.  1.  1.]\n",
      "selecting 70% (700) | red:0.89, blue:0.11 | [ 1.  1.  0.  1.  1.] | [ 0.  0.  1.  1.  1.]\n",
      "selecting 80% (800) | red:0.91, blue:0.09 | [ 1.  1.  1.  1.  1.] | [ 1.  1.  1.  1.  1.]\n",
      "selecting 90% (900) | red:0.90, blue:0.10 | [ 1.  1.  1.  1.  1.] | [ 1.  1.  1.  1.  0.]\n",
      "\n"
     ]
    },
    {
     "name": "stderr",
     "output_type": "stream",
     "text": [
      "/Library/Python/2.7/site-packages/ipykernel/__main__.py:6: DeprecationWarning: using a non-integer number instead of an integer will result in an error in the future\n",
      "/Library/Python/2.7/site-packages/ipykernel/__main__.py:7: DeprecationWarning: using a non-integer number instead of an integer will result in an error in the future\n"
     ]
    }
   ],
   "source": [
    "import numpy as np\n",
    "N=1000\n",
    "\n",
    "for b in range(5,10):\n",
    "    b = b/10.\n",
    "    red = np.zeros(N*b) + 1\n",
    "    blue = np.zeros(N*(1-b))\n",
    "    nodes = np.concatenate((red,blue))\n",
    "    print 'RANDOM SELECTION: RED {} - BLUE {}'.format(b,1-b)\n",
    "    for i in np.arange(0.1,1.0,0.1):\n",
    "        portion = int(round(N*i))\n",
    "        selection = np.random.choice(nodes,portion)\n",
    "        reds = selection.sum()/selection.size\n",
    "        blues = 1 - reds\n",
    "        print 'selecting {:.0f}% ({}) | red:{:.2f}, blue:{:.2f} | {} | {}'.format(i*100,portion,reds,blues,selection[:5],selection[-5:])\n",
    "    print ''"
   ]
  },
  {
   "cell_type": "code",
   "execution_count": 186,
   "metadata": {
    "collapsed": false
   },
   "outputs": [
    {
     "name": "stdout",
     "output_type": "stream",
     "text": [
      "RANDOM SELECTION: RED 0.5 - BLUE 0.5\n",
      "selecting 10% (100) | red:0.52, blue:0.48 | [ 1.  1.  0.  1.  0.] | [ 1.  1.  0.  1.  0.]\n",
      "selecting 20% (200) | red:0.50, blue:0.50 | [ 1.  1.  0.  1.  0.] | [ 1.  1.  0.  0.  1.]\n",
      "selecting 30% (300) | red:0.51, blue:0.49 | [ 1.  1.  0.  1.  0.] | [ 1.  0.  1.  1.  0.]\n",
      "selecting 40% (400) | red:0.50, blue:0.50 | [ 1.  1.  0.  1.  0.] | [ 0.  1.  1.  0.  0.]\n",
      "selecting 50% (500) | red:0.50, blue:0.50 | [ 1.  1.  0.  1.  0.] | [ 0.  1.  1.  0.  1.]\n",
      "selecting 60% (600) | red:0.49, blue:0.51 | [ 1.  1.  0.  1.  0.] | [ 0.  0.  0.  1.  0.]\n",
      "selecting 70% (700) | red:0.47, blue:0.53 | [ 1.  1.  0.  1.  0.] | [ 0.  1.  0.  0.  0.]\n",
      "selecting 80% (800) | red:0.48, blue:0.52 | [ 1.  1.  0.  1.  0.] | [ 0.  0.  1.  1.  0.]\n",
      "selecting 90% (900) | red:0.49, blue:0.51 | [ 1.  1.  0.  1.  0.] | [ 1.  1.  1.  0.  1.]\n",
      "\n",
      "RANDOM SELECTION: RED 0.6 - BLUE 0.4\n",
      "selecting 10% (100) | red:0.64, blue:0.36 | [ 1.  1.  0.  1.  0.] | [ 1.  1.  0.  1.  1.]\n",
      "selecting 20% (200) | red:0.61, blue:0.39 | [ 1.  1.  0.  1.  0.] | [ 1.  1.  0.  0.  1.]\n",
      "selecting 30% (300) | red:0.62, blue:0.38 | [ 1.  1.  0.  1.  0.] | [ 1.  0.  1.  1.  0.]\n",
      "selecting 40% (400) | red:0.61, blue:0.39 | [ 1.  1.  0.  1.  0.] | [ 0.  1.  1.  0.  0.]\n",
      "selecting 50% (500) | red:0.60, blue:0.40 | [ 1.  1.  0.  1.  0.] | [ 0.  1.  1.  0.  1.]\n",
      "selecting 60% (600) | red:0.59, blue:0.41 | [ 1.  1.  0.  1.  0.] | [ 0.  0.  0.  1.  0.]\n",
      "selecting 70% (700) | red:0.58, blue:0.42 | [ 1.  1.  0.  1.  0.] | [ 0.  1.  1.  1.  0.]\n",
      "selecting 80% (800) | red:0.59, blue:0.41 | [ 1.  1.  0.  1.  0.] | [ 1.  0.  1.  1.  1.]\n",
      "selecting 90% (900) | red:0.59, blue:0.41 | [ 1.  1.  0.  1.  0.] | [ 1.  1.  1.  0.  1.]\n",
      "\n",
      "RANDOM SELECTION: RED 0.7 - BLUE 0.3\n",
      "selecting 10% (100) | red:0.72, blue:0.28 | [ 1.  1.  0.  1.  0.] | [ 1.  1.  0.  1.  1.]\n",
      "selecting 20% (200) | red:0.69, blue:0.31 | [ 1.  1.  0.  1.  0.] | [ 1.  1.  1.  0.  1.]\n",
      "selecting 30% (300) | red:0.72, blue:0.28 | [ 1.  1.  0.  1.  0.] | [ 1.  0.  1.  1.  1.]\n",
      "selecting 40% (400) | red:0.71, blue:0.29 | [ 1.  1.  0.  1.  0.] | [ 0.  1.  1.  0.  0.]\n",
      "selecting 50% (500) | red:0.71, blue:0.29 | [ 1.  1.  0.  1.  0.] | [ 0.  1.  1.  0.  1.]\n",
      "selecting 60% (600) | red:0.70, blue:0.30 | [ 1.  1.  0.  1.  0.] | [ 0.  0.  0.  1.  1.]\n",
      "selecting 70% (700) | red:0.69, blue:0.31 | [ 1.  1.  0.  1.  0.] | [ 0.  1.  1.  1.  1.]\n",
      "selecting 80% (800) | red:0.69, blue:0.31 | [ 1.  1.  0.  1.  0.] | [ 1.  0.  1.  1.  1.]\n",
      "selecting 90% (900) | red:0.70, blue:0.30 | [ 1.  1.  0.  1.  0.] | [ 1.  1.  1.  1.  1.]\n",
      "\n",
      "RANDOM SELECTION: RED 0.8 - BLUE 0.2\n",
      "selecting 10% (100) | red:0.82, blue:0.18 | [ 1.  1.  0.  1.  1.] | [ 1.  0.  1.  1.  1.]\n",
      "selecting 20% (200) | red:0.81, blue:0.19 | [ 1.  1.  0.  1.  1.] | [ 1.  0.  1.  1.  0.]\n",
      "selecting 30% (300) | red:0.81, blue:0.19 | [ 1.  1.  0.  1.  1.] | [ 1.  1.  1.  1.  0.]\n",
      "selecting 40% (400) | red:0.82, blue:0.18 | [ 1.  1.  0.  1.  1.] | [ 1.  0.  1.  1.  0.]\n",
      "selecting 50% (500) | red:0.82, blue:0.18 | [ 1.  1.  0.  1.  1.] | [ 1.  1.  1.  1.  1.]\n",
      "selecting 60% (600) | red:0.82, blue:0.18 | [ 1.  1.  0.  1.  1.] | [ 1.  1.  1.  1.  1.]\n",
      "selecting 70% (700) | red:0.81, blue:0.19 | [ 1.  1.  0.  1.  1.] | [ 1.  1.  1.  1.  0.]\n",
      "selecting 80% (800) | red:0.81, blue:0.19 | [ 1.  1.  0.  1.  1.] | [ 1.  1.  1.  1.  1.]\n",
      "selecting 90% (900) | red:0.81, blue:0.19 | [ 1.  1.  0.  1.  1.] | [ 1.  1.  1.  1.  1.]\n",
      "\n",
      "RANDOM SELECTION: RED 0.9 - BLUE 0.1\n",
      "selecting 10% (100) | red:0.88, blue:0.12 | [ 1.  1.  0.  1.  1.] | [ 1.  0.  1.  1.  1.]\n",
      "selecting 20% (200) | red:0.90, blue:0.10 | [ 1.  1.  0.  1.  1.] | [ 1.  0.  1.  1.  0.]\n",
      "selecting 30% (300) | red:0.90, blue:0.10 | [ 1.  1.  0.  1.  1.] | [ 1.  1.  1.  1.  0.]\n",
      "selecting 40% (400) | red:0.91, blue:0.09 | [ 1.  1.  0.  1.  1.] | [ 1.  1.  1.  1.  0.]\n",
      "selecting 50% (500) | red:0.91, blue:0.09 | [ 1.  1.  0.  1.  1.] | [ 1.  1.  1.  1.  1.]\n",
      "selecting 60% (600) | red:0.91, blue:0.09 | [ 1.  1.  0.  1.  1.] | [ 1.  1.  1.  1.  1.]\n",
      "selecting 70% (700) | red:0.90, blue:0.10 | [ 1.  1.  0.  1.  1.] | [ 1.  1.  1.  1.  0.]\n",
      "selecting 80% (800) | red:0.90, blue:0.10 | [ 1.  1.  0.  1.  1.] | [ 1.  1.  1.  1.  1.]\n",
      "selecting 90% (900) | red:0.90, blue:0.10 | [ 1.  1.  0.  1.  1.] | [ 1.  1.  1.  1.  1.]\n",
      "\n"
     ]
    },
    {
     "name": "stderr",
     "output_type": "stream",
     "text": [
      "/Library/Python/2.7/site-packages/ipykernel/__main__.py:6: DeprecationWarning: using a non-integer number instead of an integer will result in an error in the future\n",
      "/Library/Python/2.7/site-packages/ipykernel/__main__.py:7: DeprecationWarning: using a non-integer number instead of an integer will result in an error in the future\n"
     ]
    }
   ],
   "source": [
    "import numpy as np\n",
    "N=1000\n",
    "\n",
    "for b in range(5,10):\n",
    "    b = b/10.\n",
    "    red = np.zeros(N*b) + 1\n",
    "    blue = np.zeros(N*(1-b))\n",
    "    nodes = np.concatenate((red,blue))\n",
    "    print 'RANDOM SELECTION: RED {} - BLUE {}'.format(b,1-b)\n",
    "    for i in np.arange(0.1,1.0,0.1):\n",
    "        np.random.seed(1)\n",
    "        portion = int(round(N*i))\n",
    "        selection = np.random.choice(nodes,portion)\n",
    "        reds = selection.sum()/selection.size\n",
    "        blues = 1 - reds\n",
    "        print 'selecting {:.0f}% ({}) | red:{:.2f}, blue:{:.2f} | {} | {}'.format(i*100,portion,reds,blues,selection[:5],selection[-5:])\n",
    "    print ''"
   ]
  },
  {
   "cell_type": "code",
   "execution_count": null,
   "metadata": {
    "collapsed": true
   },
   "outputs": [],
   "source": []
  },
  {
   "cell_type": "code",
   "execution_count": null,
   "metadata": {
    "collapsed": true
   },
   "outputs": [],
   "source": []
  }
 ],
 "metadata": {
  "kernelspec": {
   "display_name": "Python 2",
   "language": "python",
   "name": "python2"
  },
  "language_info": {
   "codemirror_mode": {
    "name": "ipython",
    "version": 2
   },
   "file_extension": ".py",
   "mimetype": "text/x-python",
   "name": "python",
   "nbconvert_exporter": "python",
   "pygments_lexer": "ipython2",
   "version": "2.7.10"
  }
 },
 "nbformat": 4,
 "nbformat_minor": 0
}
