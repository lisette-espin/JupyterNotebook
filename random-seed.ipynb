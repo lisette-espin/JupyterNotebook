import numpy as np
N=1000

for b in range(5,10):
    b = b/10.
    red = np.zeros(N*b) + 1
    blue = np.zeros(N*(1-b))
    nodes = np.concatenate((red,blue))
    print 'RANDOM SELECTION: RED {} - BLUE {}'.format(b,1-b)
    for i in np.arange(0.1,1.0,0.1):
        #np.random.seed(1)
        portion = int(round(N*i))
        selection = np.random.choice(nodes,portion)
        reds = selection.sum()/selection.size
        blues = 1 - reds
        print 'selecting {:.0f}% ({}) | red:{:.2f}, blue:{:.2f} | {} | {}'.format(i*100,portion,reds,blues,selection[:5],selection[-5:])
    print ''
